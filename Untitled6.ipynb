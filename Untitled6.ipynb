{
  "nbformat": 4,
  "nbformat_minor": 0,
  "metadata": {
    "colab": {
      "name": "Untitled6.ipynb",
      "provenance": [],
      "authorship_tag": "ABX9TyPhH9EoKy3tkvhhxHeTxHIL",
      "include_colab_link": true
    },
    "kernelspec": {
      "name": "python3",
      "display_name": "Python 3"
    }
  },
  "cells": [
    {
      "cell_type": "markdown",
      "metadata": {
        "id": "view-in-github",
        "colab_type": "text"
      },
      "source": [
        "<a href=\"https://colab.research.google.com/github/SurajTm/Python-day-8/blob/master/Untitled6.ipynb\" target=\"_parent\"><img src=\"https://colab.research.google.com/assets/colab-badge.svg\" alt=\"Open In Colab\"/></a>"
      ]
    },
    {
      "cell_type": "markdown",
      "metadata": {
        "id": "yR0o84PDoFPH",
        "colab_type": "text"
      },
      "source": [
        "Decorator-Fibonacci"
      ]
    },
    {
      "cell_type": "code",
      "metadata": {
        "id": "jTkdEXqyoLo9",
        "colab_type": "code",
        "colab": {}
      },
      "source": [
        "def inpnum(f):\n",
        "  def fibnum(x):\n",
        "    return f(x)\n",
        "  return fibnum\n",
        "  \n",
        "@inpnum\n",
        "def fibonacci(n):\n",
        "  a=0\n",
        "  b=1\n",
        "  sum=0\n",
        "  count=1\n",
        "  print(\"Fibonacci Series\",end=\",\")\n",
        "  while count<=n:\n",
        "    print(sum,end=\",\")\n",
        "    count+=1\n",
        "    a=b\n",
        "    b=sum\n",
        "    sum=a+b"
      ],
      "execution_count": null,
      "outputs": []
    },
    {
      "cell_type": "code",
      "metadata": {
        "id": "b7zq-CSLo9VV",
        "colab_type": "code",
        "colab": {
          "base_uri": "https://localhost:8080/",
          "height": 34
        },
        "outputId": "47e672dc-6b05-4041-c46d-ddd829715b6c"
      },
      "source": [
        "fibonacci(8)"
      ],
      "execution_count": null,
      "outputs": [
        {
          "output_type": "stream",
          "text": [
            "Fibonacci Series,0,1,1,2,3,5,8,13,"
          ],
          "name": "stdout"
        }
      ]
    },
    {
      "cell_type": "markdown",
      "metadata": {
        "id": "427C7Nt2pTnl",
        "colab_type": "text"
      },
      "source": [
        "Exceptional Handling\n"
      ]
    },
    {
      "cell_type": "code",
      "metadata": {
        "id": "CqhGEEWvpX5v",
        "colab_type": "code",
        "colab": {
          "base_uri": "https://localhost:8080/",
          "height": 34
        },
        "outputId": "536622d7-2361-4b67-a6f1-4f7054bea523"
      },
      "source": [
        "%%writefile check.txt\n",
        "\"Hello\""
      ],
      "execution_count": null,
      "outputs": [
        {
          "output_type": "stream",
          "text": [
            "Writing check.txt\n"
          ],
          "name": "stdout"
        }
      ]
    },
    {
      "cell_type": "code",
      "metadata": {
        "id": "2ANvIjhhpj9p",
        "colab_type": "code",
        "colab": {
          "base_uri": "https://localhost:8080/",
          "height": 34
        },
        "outputId": "4200e736-68f3-4a0b-9cc3-1c87445edfbd"
      },
      "source": [
        "try:\n",
        "  file=open(\"check.txt\",\"r\")\n",
        "  file.write(\"you can't write.\")\n",
        "except Exception as itsokay:\n",
        "  print(\"itsokay\")\n",
        "\n",
        "finally:\n",
        "  file.close"
      ],
      "execution_count": null,
      "outputs": [
        {
          "output_type": "stream",
          "text": [
            "itsokay\n"
          ],
          "name": "stdout"
        }
      ]
    }
  ]
}